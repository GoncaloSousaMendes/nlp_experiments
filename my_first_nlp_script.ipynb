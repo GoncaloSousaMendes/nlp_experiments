{
 "cells": [
  {
   "cell_type": "markdown",
   "metadata": {},
   "source": [
    "Lets start playing with nlp and python!"
   ]
  },
  {
   "cell_type": "code",
   "execution_count": 1,
   "metadata": {},
   "outputs": [
    {
     "name": "stdout",
     "output_type": "stream",
     "text": [
      "Collecting allennlp\n",
      "  Downloading https://files.pythonhosted.org/packages/bb/bb/041115d8bad1447080e5d1e30097c95e4b66e36074277afce8620a61cee3/allennlp-0.9.0-py3-none-any.whl (7.6MB)\n",
      "Requirement already satisfied: numpy in c:\\users\\gonca\\anaconda3\\envs\\python3.7\\lib\\site-packages (from allennlp) (1.16.4)\n",
      "Requirement already satisfied: scikit-learn in c:\\users\\gonca\\anaconda3\\envs\\python3.7\\lib\\site-packages (from allennlp) (0.21.2)\n",
      "Requirement already satisfied: numpydoc>=0.8.0 in c:\\users\\gonca\\anaconda3\\envs\\python3.7\\lib\\site-packages (from allennlp) (0.9.1)\n",
      "Collecting h5py (from allennlp)\n",
      "  Downloading https://files.pythonhosted.org/packages/0b/fa/bee65d2dbdbd3611702aafd128139c53c90a1285f169ba5467aab252e27a/h5py-2.10.0-cp36-cp36m-win_amd64.whl (2.4MB)\n",
      "Collecting spacy<2.2,>=2.1.0 (from allennlp)\n",
      "  Downloading https://files.pythonhosted.org/packages/2b/ab/50176fd117ef88b3a8fc20bc6c83d32077f335d75a000ecab510f1ccf8ac/spacy-2.1.9-cp36-cp36m-win_amd64.whl (30.0MB)\n",
      "Collecting sqlparse>=0.2.4 (from allennlp)\n",
      "  Downloading https://files.pythonhosted.org/packages/ef/53/900f7d2a54557c6a37886585a91336520e5539e3ae2423ff1102daf4f3a7/sqlparse-0.3.0-py2.py3-none-any.whl\n",
      "Collecting unidecode (from allennlp)\n",
      "  Downloading https://files.pythonhosted.org/packages/d0/42/d9edfed04228bacea2d824904cae367ee9efd05e6cce7ceaaedd0b0ad964/Unidecode-1.1.1-py2.py3-none-any.whl (238kB)\n",
      "Collecting boto3 (from allennlp)\n",
      "  Downloading https://files.pythonhosted.org/packages/ea/be/ce6320d0341936efd97990f62b33aa2717513c12b16a8a2ed4301214e65a/boto3-1.10.8-py2.py3-none-any.whl (128kB)\n",
      "Requirement already satisfied: tqdm>=4.19 in c:\\users\\gonca\\anaconda3\\envs\\python3.7\\lib\\site-packages (from allennlp) (4.36.1)\n",
      "Collecting overrides (from allennlp)\n",
      "  Downloading https://files.pythonhosted.org/packages/8b/a0/0d4a9dcd28de9bf263e9436b5876ba199cc4e4a19d0dc4e85eed657b1b77/overrides-2.5.tar.gz\n",
      "Requirement already satisfied: requests>=2.18 in c:\\users\\gonca\\anaconda3\\envs\\python3.7\\lib\\site-packages (from allennlp) (2.22.0)\n",
      "Collecting gevent>=1.3.6 (from allennlp)\n",
      "  Downloading https://files.pythonhosted.org/packages/51/97/2e1e8aa7ea27171c3e249480d382e78b49ab4cead5dafb2124d2a1b58a83/gevent-1.4.0-cp36-cp36m-win_amd64.whl (3.0MB)\n",
      "Collecting word2number>=1.1 (from allennlp)\n",
      "  Downloading https://files.pythonhosted.org/packages/4a/29/a31940c848521f0725f0df6b25dca8917f13a2025b0e8fcbe5d0457e45e6/word2number-1.1.zip\n",
      "Collecting conllu==1.3.1 (from allennlp)\n",
      "  Downloading https://files.pythonhosted.org/packages/ae/54/b0ae1199f3d01666821b028cd967f7c0ac527ab162af433d3da69242cea2/conllu-1.3.1-py2.py3-none-any.whl\n",
      "Collecting pytorch-transformers==1.1.0 (from allennlp)\n",
      "  Downloading https://files.pythonhosted.org/packages/50/89/ad0d6bb932d0a51793eaabcf1617a36ff530dc9ab9e38f765a35dc293306/pytorch_transformers-1.1.0-py3-none-any.whl (158kB)\n",
      "Requirement already satisfied: nltk in c:\\users\\gonca\\anaconda3\\envs\\python3.7\\lib\\site-packages (from allennlp) (3.4.5)\n",
      "Collecting parsimonious>=0.8.0 (from allennlp)\n",
      "  Downloading https://files.pythonhosted.org/packages/02/fc/067a3f89869a41009e1a7cdfb14725f8ddd246f30f63c645e8ef8a1c56f4/parsimonious-0.8.1.tar.gz (45kB)\n",
      "Collecting pytest (from allennlp)\n",
      "  Downloading https://files.pythonhosted.org/packages/93/16/f6dec5178f5f4141e80dfc4812a9aba88f5f29ca881f174ab1851181d016/pytest-5.2.2-py3-none-any.whl (227kB)\n",
      "Collecting ftfy (from allennlp)\n",
      "  Downloading https://files.pythonhosted.org/packages/75/ca/2d9a5030eaf1bcd925dab392762b9709a7ad4bd486a90599d93cd79cb188/ftfy-5.6.tar.gz (58kB)\n",
      "Requirement already satisfied: matplotlib>=2.2.3 in c:\\users\\gonca\\anaconda3\\envs\\python3.7\\lib\\site-packages (from allennlp) (3.1.0)\n",
      "Collecting tensorboardX>=1.2 (from allennlp)\n",
      "  Downloading https://files.pythonhosted.org/packages/a6/5c/e918d9f190baab8d55bad52840d8091dd5114cc99f03eaa6d72d404503cc/tensorboardX-1.9-py2.py3-none-any.whl (190kB)\n",
      "Collecting jsonpickle (from allennlp)\n",
      "  Downloading https://files.pythonhosted.org/packages/07/07/c157520a3ebd166c8c24c6ae0ecae7c3968eb4653ff0e5af369bb82f004d/jsonpickle-1.2-py2.py3-none-any.whl\n",
      "Collecting responses>=0.7 (from allennlp)\n",
      "  Downloading https://files.pythonhosted.org/packages/d1/5a/b887e89925f1de7890ef298a74438371ed4ed29b33def9e6d02dc6036fd8/responses-0.10.6-py2.py3-none-any.whl\n",
      "Collecting pytorch-pretrained-bert>=0.6.0 (from allennlp)\n",
      "  Downloading https://files.pythonhosted.org/packages/d7/e0/c08d5553b89973d9a240605b9c12404bcf8227590de62bae27acbcfe076b/pytorch_pretrained_bert-0.6.2-py3-none-any.whl (123kB)\n",
      "Collecting flask>=1.0.2 (from allennlp)\n",
      "  Downloading https://files.pythonhosted.org/packages/9b/93/628509b8d5dc749656a9641f4caf13540e2cdec85276964ff8f43bbb1d3b/Flask-1.1.1-py2.py3-none-any.whl (94kB)\n",
      "Requirement already satisfied: scipy in c:\\users\\gonca\\anaconda3\\envs\\python3.7\\lib\\site-packages (from allennlp) (1.2.1)\n",
      "Collecting torch>=1.2.0 (from allennlp)\n",
      "Note: you may need to restart the kernel to use updated packages.\n"
     ]
    },
    {
     "name": "stderr",
     "output_type": "stream",
     "text": [
      "  ERROR: Could not find a version that satisfies the requirement torch>=1.2.0 (from allennlp) (from versions: 0.1.2, 0.1.2.post1, 0.1.2.post2)\n",
      "ERROR: No matching distribution found for torch>=1.2.0 (from allennlp)\n"
     ]
    }
   ],
   "source": [
    "pip install allennlp\n"
   ]
  },
  {
   "cell_type": "code",
   "execution_count": null,
   "metadata": {},
   "outputs": [],
   "source": []
  }
 ],
 "metadata": {
  "kernelspec": {
   "display_name": "Python 3",
   "language": "python",
   "name": "python3"
  },
  "language_info": {
   "codemirror_mode": {
    "name": "ipython",
    "version": 3
   },
   "file_extension": ".py",
   "mimetype": "text/x-python",
   "name": "python",
   "nbconvert_exporter": "python",
   "pygments_lexer": "ipython3",
   "version": "3.6.8"
  }
 },
 "nbformat": 4,
 "nbformat_minor": 2
}
